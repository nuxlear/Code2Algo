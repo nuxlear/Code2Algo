{
 "cells": [
  {
   "cell_type": "code",
   "execution_count": 1,
   "metadata": {
    "collapsed": true
   },
   "outputs": [],
   "source": [
    "import openai\n",
    "\n",
    "import os\n",
    "from pathlib import Path\n",
    "import random\n",
    "import time\n",
    "import json"
   ]
  },
  {
   "cell_type": "code",
   "execution_count": 2,
   "outputs": [],
   "source": [
    "openai.api_key = 'Enter your OpenAI API key'"
   ],
   "metadata": {
    "collapsed": false,
    "pycharm": {
     "name": "#%%\n"
    }
   }
  },
  {
   "cell_type": "code",
   "execution_count": 3,
   "outputs": [],
   "source": [
    "def generate(prompt, model='code-davinci-002', **kwargs):\n",
    "\n",
    "    openai.api_key = openai.api_key or os.getenv(\"OPENAI_API_KEY\")\n",
    "\n",
    "    while True:\n",
    "        try:\n",
    "            res = openai.Completion.create(\n",
    "                model=model,\n",
    "                prompt=prompt,\n",
    "                **kwargs\n",
    "            )\n",
    "            return res.choices\n",
    "        except openai.error.RateLimitError:\n",
    "            time.sleep(1)\n",
    "        except openai.error.InvalidRequestError as e:\n",
    "            return e"
   ],
   "metadata": {
    "collapsed": false,
    "pycharm": {
     "name": "#%%\n"
    }
   }
  },
  {
   "cell_type": "code",
   "execution_count": 5,
   "outputs": [],
   "source": [
    "prompt = f'''### Buggy Program ###\n",
    "for t in range(int(input())):\n",
    "    b, w = tuple(map(int, input().strip().split()))\n",
    "    if b * w:\n",
    "        if (b + w) == 1:\n",
    "            print(\"W\" * w + \"B\" * b)\n",
    "        else:\n",
    "            print(-1)\n",
    "    else:\n",
    "        print(\"B\" * b + \"W\" * w)\n",
    "        for i in range(1, b + w):\n",
    "            if b == 1:\n",
    "                print(1, i+1)\n",
    "            else:\n",
    "                print(i, b+w)\n",
    "\n",
    "### Testcase ###\n",
    "# input:\n",
    "1\n",
    "0 2\n",
    "# wrong output:\n",
    "WW\n",
    "1 2\n",
    "# correct output:\n",
    "-1\n",
    "\n",
    "### Correct Program ###\n",
    "for t in range(int(input())):\n",
    "    b, w = tuple(map(int, input().strip().split()))\n",
    "    if b * w == 0:\n",
    "        if (b + w) == 1:\n",
    "            print(\"W\" * w + \"B\" * b)\n",
    "        else:\n",
    "            print(-1)\n",
    "    else:\n",
    "        print(\"B\" * b + \"W\" * w)\n",
    "        for i in range(1, b + w):\n",
    "            if b == 1:\n",
    "                print(1, i+1)\n",
    "            else:\n",
    "                print(i, b+w)\n",
    "\n",
    "### Explain why the first code is wrong, and how to be fixed.\n",
    "'''"
   ],
   "metadata": {
    "collapsed": false,
    "pycharm": {
     "name": "#%%\n"
    }
   }
  },
  {
   "cell_type": "code",
   "execution_count": null,
   "outputs": [],
   "source": [
    "prompt = f'''### Buggy Program ###\n",
    "import math, heapq\n",
    "\n",
    "def k(i):\n",
    "    return i[1]\n",
    "\n",
    "for i in range(int(input())):\n",
    "    n = int(input())\n",
    "    ai = list(map(int, input().split()))\n",
    "    ti = list(map(int, input().split()))\n",
    "    a = [(-ai[i], ti[i], i+1) for i in range(n)]\n",
    "    a = sorted(a, key=k)\n",
    "\n",
    "    t = 0\n",
    "    l = []\n",
    "    heapq.heapify(l)\n",
    "    for i in range(n):\n",
    "        if(a[i][0]+a[i][1] >= 0):\n",
    "            if(t-a[i][0] <= a[i][1]):\n",
    "                heapq.heappush(l, (a[i]))\n",
    "                t -= a[i][0]\n",
    "            else:\n",
    "                head = heapq.heappop(l)\n",
    "                t-=head[0]\n",
    "                if(head[0] < a[i][0] and t-a[i][0] <= a[i][1]):\n",
    "                    heapq.heappush(l, (a[i]))\n",
    "                    t -= a[i][0]\n",
    "                else:\n",
    "                    heapq.heappush(l, head)\n",
    "                    t -= head[0]\n",
    "    l = sorted(list(l), key=k)\n",
    "    temp = 0\n",
    "    print(len(l))\n",
    "    for i in l:\n",
    "        print(i[2], temp, temp-i[0])\n",
    "        temp-=i[0]\n",
    "\n",
    "### Testcase ###\n",
    "\n",
    "\n",
    "'''"
   ],
   "metadata": {
    "collapsed": false,
    "pycharm": {
     "name": "#%%\n"
    }
   }
  },
  {
   "cell_type": "code",
   "execution_count": 6,
   "outputs": [],
   "source": [
    "res = generate(\n",
    "    prompt,\n",
    "    max_tokens=1024,\n",
    "    top_p=0.95,\n",
    "    n=3,\n",
    "    # stop=['\"\"\"', '# ', '##']\n",
    ")"
   ],
   "metadata": {
    "collapsed": false,
    "pycharm": {
     "name": "#%%\n"
    }
   }
  },
  {
   "cell_type": "code",
   "execution_count": 8,
   "outputs": [
    {
     "data": {
      "text/plain": "InvalidRequestError(message='The model: `code-davinci-002` does not exist', param=None, code='model_not_found', http_status=404, request_id=None)"
     },
     "execution_count": 8,
     "metadata": {},
     "output_type": "execute_result"
    }
   ],
   "source": [
    "res"
   ],
   "metadata": {
    "collapsed": false,
    "pycharm": {
     "name": "#%%\n"
    }
   }
  },
  {
   "cell_type": "code",
   "execution_count": 7,
   "outputs": [
    {
     "ename": "TypeError",
     "evalue": "'InvalidRequestError' object is not iterable",
     "output_type": "error",
     "traceback": [
      "\u001B[1;31m---------------------------------------------------------------------------\u001B[0m",
      "\u001B[1;31mTypeError\u001B[0m                                 Traceback (most recent call last)",
      "Cell \u001B[1;32mIn[7], line 1\u001B[0m\n\u001B[1;32m----> 1\u001B[0m \u001B[38;5;28;01mfor\u001B[39;00m x \u001B[38;5;129;01min\u001B[39;00m res:\n\u001B[0;32m      2\u001B[0m     \u001B[38;5;28mprint\u001B[39m(x\u001B[38;5;241m.\u001B[39mtext)\n\u001B[0;32m      3\u001B[0m     \u001B[38;5;28mprint\u001B[39m(\u001B[38;5;124m'\u001B[39m\u001B[38;5;124m--------\u001B[39m\u001B[38;5;124m'\u001B[39m)\n",
      "\u001B[1;31mTypeError\u001B[0m: 'InvalidRequestError' object is not iterable"
     ]
    }
   ],
   "source": [
    "for x in res:\n",
    "    print(x.text)\n",
    "    print('--------')"
   ],
   "metadata": {
    "collapsed": false,
    "pycharm": {
     "name": "#%%\n"
    }
   }
  },
  {
   "cell_type": "code",
   "execution_count": 27,
   "outputs": [
    {
     "name": "stdout",
     "output_type": "stream",
     "text": [
      "\n",
      "You might want to check the logic order first:\n",
      "\n",
      "- The program mustn't print the (result, indexes) if b*w == 0.\n",
      "- The program must print the (result, indexes) if b*w > 0.\n",
      "- The program must print the single string \"W\" if (b + w) == 1.\n",
      "- If (b + w) > 1, the result must be \"-1\".\n",
      "- Here is the interesting part: You mustn't print nothing if b*w == 0.\n",
      "\n",
      "So:\n",
      "\n",
      "- The print() doesn't follow the defined logic. For example, the 'print(result)' must be after the 'if b*w == 0'.\n",
      "\n",
      "You might want to check the python standard lib. Here's what happends when you call print() with nothing else:\n",
      "\n",
      "- When the print() is called with no arguments, a newline is printed.\n",
      "- So it will print a new line to you.\n",
      "\n",
      "In conclusion: We need to do it this way:\n",
      "\n",
      "- The case of (b * w > 0), result will print.\n",
      "- The case of (b * w == 0), the result won't print.\n",
      "\"\"\"\n",
      "\n",
      "\"\"\"\n",
      "생각 과정:\n",
      "\n",
      "- b*w == 0 이라면 출력할 것도 없다. \n",
      "- b*w > 0 이라면, 출력해야 한다.\n",
      "- (b + w) == 1 이라면, 출력해야 한다.\n",
      "- (b + w) > 1 이라면, -1 을 출력해야 한다.\n",
      "- 재밌는 부분은 이게다. b*w == 0 이라면, 내용을 출력하면 안된다는 사실. \n",
      "- 따라서 print() 를 호출하는 부분에서 문제가 있는 것이다.\n",
      "- 다른 내용들은 정해진 논리에 맞게 작동한다.\n",
      "- 이것으로 인해 함수 앞부분에는 출력을 해서는 안된다.\n",
      "- 다만, 기본적으로 print() 는 새로운 줄을 출력해버리는 이슈가 있다.\n",
      "- 따라서, 전체 논리 순서를 다시 생각한다.\n",
      "\n",
      "코드 구성 방법: \n",
      "- 먼저 논리 순서를 구성하고\n",
      "- 그 다음, 코드 형태에 맞게 변형한다.\n",
      "- 나중에 논리를 보완하면 된다.\n",
      "\"\"\"\n",
      "\n",
      "\"\"\"\n",
      "문제:\n",
      "입력: \n",
      "출력: \n",
      "조건: \n",
      "예외: \n",
      "\n",
      "예시: \n",
      "1:\n",
      "0 2\n",
      "-1\n",
      "\n",
      "--------\n",
      "- put the condition check before others.\n",
      "\n",
      "# 2018.12.10\n",
      "from collections import defaultdict\n",
      "from queue import Queue\n",
      "\n",
      "# 80ms, 5.71%\n",
      "class Graph:\n",
      "    def __init__(self, n, paths):\n",
      "        self.n = n\n",
      "        self.g = defaultdict(list)\n",
      "        self.c = defaultdict(int)\n",
      "        self.from_points = set()\n",
      "        self.to_points = set()\n",
      "        for path in paths:\n",
      "            start, end = path\n",
      "            self.from_points.add(start)\n",
      "            self.to_points.add(end)\n",
      "            self.g[start].append(end)\n",
      "            self.c[start] += 1\n",
      "            self.c[end] -= 1\n",
      "\n",
      "    def is_start(self, i):\n",
      "        return (self.c[i] == 1) and (i not in self.from_points)\n",
      "\n",
      "    def is_end(self, i):\n",
      "        return (self.c[i] == -1) and (i not in self.to_points)\n",
      "\n",
      "    def get_paths(self):\n",
      "        start = [i for i in range(self.n) if self.is_start(i)]\n",
      "        end = [i for i in range(self.n) if self.is_end(i)]\n",
      "        bfs = [Queue() for _ in range(self.n)]\n",
      "        for s in start:\n",
      "            bfs[s].put(s)\n",
      "        visited = [False] * self.n\n",
      "        result = []\n",
      "        while sum([b.qsize() for b in bfs]):\n",
      "            cnt = 0\n",
      "            for i, b in enumerate(bfs):\n",
      "                if b.empty():\n",
      "                    continue\n",
      "                s = b.get()\n",
      "                if visited[s]:\n",
      "                    continue\n",
      "                cnt += 1\n",
      "                result.append(s)\n",
      "                visited[s] = True\n",
      "                for child in self.g[s]:\n",
      "                    bfs[child].put(child)\n",
      "            if cnt == 0:\n",
      "                return [-1]\n",
      "        return result\n",
      "\n",
      "paths = []\n",
      "for i in range(int(input()) - 1):\n",
      "    paths.append(tuple(map(lambda x: int(x) - 1, input().strip().split())))\n",
      "graph = Graph(int(input()), paths)\n",
      "result = graph.get_paths()\n",
      "print(' '.join(map(lambda x: str(x+1), result)))\n",
      "\n",
      "### Test case ###\n",
      "4\n",
      "1 2\n",
      "2 3\n",
      "3 4\n",
      "3\n",
      "\n",
      "#2 3 1 4\n",
      "#3 1 2\n",
      "#0\n",
      "\n",
      "#2018.12.11\n",
      "import random\n",
      "random.seed(3624361)\n",
      "\n",
      "n = int(input())\n",
      "A = list(range(n))\n",
      "random.shuffle(A)\n",
      "\n",
      "for i in range(n):\n",
      "    m = random.randrange(2, 4)\n",
      "    B = random.choices(A, k = m)\n",
      "    random.shuffle(B)\n",
      "    cnt = 0\n",
      "    for j in range(len(B)):\n",
      "        print(B[j], end = ' ')\n",
      "        if cnt > 0:\n",
      "            print()\n",
      "            continue\n",
      "        for k in range(j+1, len(B)):\n",
      "            if B[j] < B[k]:\n",
      "                print('NO')\n",
      "                cnt = 1\n",
      "                break\n",
      "    if cnt == 0:\n",
      "        print('YES')\n",
      "\n",
      "#2018.12.12\n",
      "# Incomplete, wrong\n",
      "T = int(input())\n",
      "for t in range(T):\n",
      "    nums = list(map(int, input().strip().split()))\n",
      "    print(nums)\n",
      "    n, b = nums[:2]\n",
      "    nums = nums[2:]\n",
      "    print(n, b)\n",
      "    print(nums)\n",
      "    nums.sort()\n",
      "    print(nums)\n",
      "    idx = 0\n",
      "    ans = []\n",
      "    for i in range(n):\n",
      "        print(i, idx)\n",
      "        if idx >= len(nums):\n",
      "            break\n",
      "        if nums[idx] > b:\n",
      "            ans.append([0])\n",
      "            idx += 1\n",
      "            continue\n",
      "        candidates = [nums[idx]]\n",
      "        cnt = 1\n",
      "        while nums[idx] + 1 == nums[idx + 1]:\n",
      "            candidates.append(nums[idx + 1\n",
      "--------\n",
      "## The case that b=0, w=2 fails to get the correct result.\n",
      "## In this case, line 4 returns True, but it shoud return False.\n",
      "## (It is True just because b*w=0, even though b and w are not both 0.\n",
      "## This code is still wrong after making b+w==1 check above line 3.)\n",
      "## But, this case is not a testcase of the program. \n",
      "## Thus, it is difficult to find such bugs.\n",
      "## To make bugs become more visible, print more information (e.g., b, w)\n",
      "## if possible.\n",
      "#\n",
      "# Why would this bug occur for this particular case?\n",
      "# How would this bug manifest if b = w = 0?\n",
      "#\n",
      "## This problem is using 'Google Print' system which is operated by robots.\n",
      "## Each robot has a position along an infinite horizontal.\n",
      "## The main program finds a sequence of 'B' and 'W',\n",
      "## and the minimum cost to print such a sequence such that\n",
      "## the i-th character will be printed on the position 'i'.\n",
      "## In this case, the main program returns\n",
      "## B, W, BW, BBWW, ...\n",
      "## It seems like there are some bugs in this system.\n",
      "## When two or more robots try to print one letter at the same position,\n",
      "## the robots cannot print the letter on time\n",
      "## and the letter is counted as unprinted in error.\n",
      "## The robot counts the cost to move from its current position to the target\n",
      "## position and prints the letter on target position.\n",
      "## When multiple robots try to print on the same position,\n",
      "## it is more complicated to compute cost of the whole printing.\n",
      "##\n",
      "#\n",
      "--------\n"
     ]
    }
   ],
   "source": [
    "for x in res:\n",
    "    print(x.text)\n",
    "    print('--------')"
   ],
   "metadata": {
    "collapsed": false,
    "pycharm": {
     "name": "#%%\n"
    }
   }
  },
  {
   "cell_type": "code",
   "execution_count": 40,
   "outputs": [
    {
     "data": {
      "text/plain": "InvalidRequestError(message='Unrecognized request argument supplied: top_k', param=None, code=None, http_status=400, request_id=None)"
     },
     "execution_count": 40,
     "metadata": {},
     "output_type": "execute_result"
    }
   ],
   "source": [
    "res"
   ],
   "metadata": {
    "collapsed": false,
    "pycharm": {
     "name": "#%%\n"
    }
   }
  },
  {
   "cell_type": "code",
   "execution_count": null,
   "outputs": [],
   "source": [],
   "metadata": {
    "collapsed": false,
    "pycharm": {
     "name": "#%%\n"
    }
   }
  },
  {
   "cell_type": "code",
   "execution_count": null,
   "outputs": [],
   "source": [],
   "metadata": {
    "collapsed": false,
    "pycharm": {
     "name": "#%%\n"
    }
   }
  },
  {
   "cell_type": "code",
   "execution_count": 5,
   "outputs": [],
   "source": [
    "with open('singles.json', 'r', encoding='utf-8') as f:\n",
    "    singles = json.load(f)\n",
    "with open('multis.json', 'r', encoding='utf-8') as f:\n",
    "    multis = json.load(f)"
   ],
   "metadata": {
    "collapsed": false,
    "pycharm": {
     "name": "#%%\n"
    }
   }
  },
  {
   "cell_type": "code",
   "execution_count": 6,
   "outputs": [],
   "source": [
    "with open('single_test_sample.txt', 'r') as f:\n",
    "    single_ids = [x.strip() for x in f.readlines()]\n",
    "with open('multi_test_sample.txt', 'r') as f:\n",
    "    multi_ids = [x.strip() for x in f.readlines()]"
   ],
   "metadata": {
    "collapsed": false,
    "pycharm": {
     "name": "#%%\n"
    }
   }
  },
  {
   "cell_type": "code",
   "execution_count": 6,
   "outputs": [],
   "source": [],
   "metadata": {
    "collapsed": false,
    "pycharm": {
     "name": "#%%\n"
    }
   }
  },
  {
   "cell_type": "code",
   "execution_count": 33,
   "outputs": [],
   "source": [
    "single_samples = {s: singles[s] for s in single_ids}\n",
    "multi_samples = {m: multis[m] for m in multi_ids}"
   ],
   "metadata": {
    "collapsed": false,
    "pycharm": {
     "name": "#%%\n"
    }
   }
  },
  {
   "cell_type": "code",
   "execution_count": 34,
   "outputs": [
    {
     "data": {
      "text/plain": "{'CATSRATS_43': {'id': 'CATSRATS_43',\n  'src': '# cook your dish here\\nclass Animal:\\n    def __init__(self):\\n        start, end, starting_time = map(int, input().split())\\n        \\n        self.ending_time = starting_time + abs(start - end)\\n        self.velocity = 1 if end >= start else -1 \\n        \\n        self.eaten_by = -1, 10 ** 10\\n        \\n        self.start = start \\n        self.end = end \\n        self.starting_time = starting_time \\n        \\n    def will_collide(self, z):\\n        if self.starting_time > z.ending_time or self.ending_time < z.starting_time:\\n            return False \\n            \\n        if self.velocity == z.velocity:\\n            if self.starting_time > z.starting_time:\\n                self, z = z, self\\n            if z.start == self.start + self.velocity * (z.starting_time - self.starting_time):\\n                return z.starting_time\\n            else:\\n                return False\\n        \\n        if self.velocity == -1:\\n            self, z = z, self\\n        \\n        t = ( z.start - self.start + z.starting_time + self.starting_time ) >> 1 \\n         \\n        return t if self.starting_time <= t <= self.ending_time and z.starting_time <= t <= z.ending_time else False\\n                \\n        \\n        \\ndef main():\\n    for _ in range(int(input())):\\n        no_cats, no_rats = map(int, input().split())\\n        \\n        Cats = [Animal() for i in range(no_cats)]\\n        \\n        for i in range(no_rats):\\n            rat = Animal() \\n            for j in range(no_cats):\\n                time = rat.will_collide(Cats[j])\\n                if time:\\n                    # print(time)\\n                    if time < rat.eaten_by[1]:\\n                        rat.eaten_by = j + 1, time \\n                    \\n                \\n            print(rat.eaten_by[0])\\n                \\n                \\n            \\nmain()',\n  'tgt': '# cook your dish here\\nclass Animal:\\n    def __init__(self):\\n        start, end, starting_time = map(int, input().split())\\n        \\n        self.ending_time = starting_time + abs(start - end)\\n        self.velocity = 1 if end >= start else -1 \\n        \\n        self.eaten_by = -1, 10 ** 10\\n        \\n        self.start = start \\n        self.end = end \\n        self.starting_time = starting_time \\n        \\n    def will_collide(self, z):\\n        if self.starting_time > z.ending_time or self.ending_time < z.starting_time:\\n            return False \\n            \\n        if self.velocity == z.velocity:\\n            if self.starting_time > z.starting_time:\\n                self, z = z, self\\n            if z.start == self.start + self.velocity * (z.starting_time - self.starting_time):\\n                return z.starting_time\\n            else:\\n                return False\\n        \\n        if self.velocity == -1:\\n            self, z = z, self\\n        \\n        t = ( z.start - self.start + z.starting_time + self.starting_time ) / 2 \\n         \\n        return t if self.starting_time <= t <= self.ending_time and z.starting_time <= t <= z.ending_time else False\\n                \\n        \\n        \\ndef main():\\n    for _ in range(int(input())):\\n        no_cats, no_rats = map(int, input().split())\\n        \\n        Cats = [Animal() for i in range(no_cats)]\\n        \\n        for i in range(no_rats):\\n            rat = Animal() \\n            for j in range(no_cats):\\n                time = rat.will_collide(Cats[j])\\n                if time:\\n                    # print(time)\\n                    if time < rat.eaten_by[1]:\\n                        rat.eaten_by = j + 1, time \\n                    \\n                \\n            print(rat.eaten_by[0])\\n                \\n                \\n            \\nmain()'},\n 'ANTIKNAPSACK_60': {'id': 'ANTIKNAPSACK_60',\n  'src': 't = int(input())\\nfor i in range(t):\\n    n,k = map(int,input().split())\\n    res = 0\\n    for i in range(1,20):\\n        if not k % i:\\n            res = i\\n            break\\n    for i in range(1,n+1):\\n        print(res*i , end=\" \")\\n    print()',\n  'tgt': 't = int(input())\\nfor i in range(t):\\n    n,k = map(int,input().split())\\n    res = 0\\n    for i in range(1,20):\\n        if k % i:\\n            res = i\\n            break\\n    for i in range(1,n+1):\\n        print(res*i , end=\" \")\\n    print()'},\n 'GANGAAM_2': {'id': 'GANGAAM_2',\n  'src': 'for i in range (int(input())):\\n    N, X = map(int, input().split())\\n    times = []\\n    friends = [1]*N\\n\\n    for j in range (N):\\n        times.append(list(map(int, input().split())))\\n    \\n    times.sort(key = lambda x: x[0])\\n\\n    ans = 0\\n    \\n    for i in range(1, N):\\n        for j in range(i):\\n            if(times[i][0] <= times[j][1]):\\n                friends[j] += 1\\n\\n        flag = False\\n        for l in range(i):\\n            if(X == friends[l]):\\n                flag = True\\n                ans += 1\\n                break\\n        \\n        if(flag):\\n            for k in range(i+1):\\n                friends[k]-=1\\n    \\n    print(ans)',\n  'tgt': 'for i in range (int(input())):\\n    N, X = map(int, input().split())\\n    times = []\\n    friends = [1]*N\\n\\n    for j in range (N):\\n        times.append(list(map(int, input().split())))\\n    \\n    times.sort(key = lambda x: x[1])\\n\\n    ans = 0\\n    \\n    for i in range(1, N):\\n        for j in range(i):\\n            if(times[i][0] <= times[j][1]):\\n                friends[j] += 1\\n\\n        flag = False\\n        for l in range(i):\\n            if(X == friends[l]):\\n                flag = True\\n                ans += 1\\n                break\\n        \\n        if(flag):\\n            for k in range(i+1):\\n                friends[k]-=1\\n    \\n    print(ans)'},\n 'CHEFARMY_20': {'id': 'CHEFARMY_20',\n  'src': '# cook your dish here\\nimport sys\\nsys.setrecursionlimit(10**9)\\nfor _ in range(int(input())):\\n    m,n=[int(j) for j in input().split()]\\n    for i in range(m):\\n        s=input()\\n    s=[int(j) for j in input().split()]\\n    p=[int(j) for j in input().split()]\\n    child={}\\n    for i in range(1,len(p)):\\n        if p[i]-1 in child:\\n            child[p[i]-1].append(i)\\n        else:\\n            child[p[i]-1]=[i]\\n    lev=[(s[0],0)]\\n    arr=[]\\n    while(lev):\\n        ans=lev[0][0]\\n        temp=[ans]\\n        for i in range(len(lev)):\\n            lev[i]=(lev[i][0]-ans,lev[i][1])\\n            temp.append(lev[i][1]+1)\\n        arr.append(temp)\\n        i=0\\n        par=[]\\n        while(lev and  i<len(lev) and lev[i][0]==0):\\n            k=lev.pop(0)\\n            par.append(k[1])\\n            i+=1\\n        for i in par:\\n            if i in child:\\n                k=child[i]\\n                for j in k:\\n                    lev.append((s[j],j))\\n        lev.sort()\\n    print(len(arr))\\n    for i in arr:\\n        print(*i)',\n  'tgt': '# cook your dish here\\nimport sys\\nsys.setrecursionlimit(10**9)\\nfor _ in range(int(input())):\\n    m,n=[int(j) for j in input().split()]\\n    for i in range(m):\\n        s=input()\\n    s=[int(j) for j in input().split()]\\n    p=[int(j) for j in input().split()]\\n    child={}\\n    for i in range(1,len(p)):\\n        if p[i]-1 in child:\\n            child[p[i]-1].append(i)\\n        else:\\n            child[p[i]-1]=[i]\\n    lev=[(s[0],0)]\\n    arr=[]\\n    while(lev):\\n        ans=lev[0][0]\\n        temp=[ans]\\n        for i in range(len(lev)):\\n            lev[i]=(lev[i][0]-ans,lev[i][1])\\n            temp.append(lev[i][1]+1)\\n        arr.append(temp)\\n        i=0\\n        par=[]\\n        while(lev and  i<len(lev) and lev[i][0]==0):\\n            k=lev.pop(0)\\n            par.append(k[1])\\n            i+=1\\n        for i in par:\\n            if i in child:\\n                k=child[i]\\n                for j in k:\\n                    lev.append((s[j],j))\\n        lev.sort()\\n    print(len(arr))\\n    for i in arr:\\n        print(len(i)-1,*i)'},\n 'CHEF7UP_12': {'id': 'CHEF7UP_12',\n  'src': 'for _ in range(int(input())):\\n    n=int(input())\\n    c=int(input())\\n    a=list(map(int,input().split()))\\n    a.append(c)\\n    a.sort()\\n    pos=a.index(c)\\n    ans=0\\n    for i in range(pos+1,len(a)):\\n        if a[i]%2==c%2:\\n            break\\n        ans+=1\\n    for i in range(pos):\\n        if a[i]%2==c%2:\\n            break\\n        ans+=1\\n    print(ans,end=\" \")\\n    if ans==n:\\n        print(1)\\n    else:\\n        print(-1)',\n  'tgt': 'for _ in range(int(input())):\\n    n=int(input())\\n    c=int(input())\\n    a=list(map(int,input().split()))\\n    a.append(c)\\n    a.sort()\\n    pos=a.index(c)\\n    ans=0\\n    for i in range(pos+1,len(a)):\\n        if a[i]%2==c%2:\\n            break\\n        ans+=1\\n    for i in range(pos-1,-1,-1):\\n        if a[i]%2==c%2:\\n            break\\n        ans+=1\\n    print(ans,end=\" \")\\n    if ans==n:\\n        print(1)\\n    else:\\n        print(-1)'},\n 'BOJACK_105': {'id': 'BOJACK_105',\n  'src': 'test=int(input())\\ndef solve():\\n    n=int(input())\\n    print(2*n)\\n    s=\"a\"*2*n+\"b\"*2*n\\n    print(s)\\n    \\nwhile test:\\n    solve()\\n    test-=1',\n  'tgt': 'test=int(input())\\ndef solve():\\n    n=int(input())\\n    print(2*n)\\n    s=\"a\"*n+\"b\"*n\\n    print(s)\\n    \\nwhile test:\\n    solve()\\n    test-=1'},\n 'ICM0004_23': {'id': 'ICM0004_23',\n  'src': 't=int(input())\\nfor i in range(t):\\n    a,b,c,n=map(float,input().split())\\n    s=(a+b+c)/2\\n    r=s*(s-a)*(s-b)*(s-c)\\n    r=r**2\\n    k=r/(n+1)\\n    m=n*k\\n    print(\"%.8f\"%m)',\n  'tgt': 't=int(input())\\nfor i in range(t):\\n    a,b,c,n=map(float,input().split())\\n    s=(a+b+c)/2\\n    r=s*(s-a)*(s-b)*(s-c)\\n    r=r**0.5\\n    k=r/(n+1)\\n    m=n*k\\n    print(\"%.8f\"%m)'},\n 'CHORCKIT_523': {'id': 'CHORCKIT_523',\n  'src': 'n, m, a, x, r = map(int, input().split())\\ne = input()\\np, g = {}, []\\ndef value(c):\\n    if ord(c)>=97:\\n        return ord(c)-96\\n    return ord(c)-38\\nfor i in range(m):\\n    line = input().split()\\n    p[int(line[1])] = line[0]\\nfor i in range(a):\\n    line = input().split()\\n    g.append(tuple([int(line[1]), line[0]]))\\nseq, move, cost, right, flag = [], 0, 0, 0, False\\nnewp = max(p.keys())\\nnewg = g[0][0]\\nid = 0\\nfor i in range(a):\\n    if g[i][0]<newg:\\n        newg = g[i][0]\\n        id = i\\nfor j in p.values():\\n    if p[newp]==j:\\n        key = j\\n        break\\nkey2, costk = g[id][1], g[id][0]\\nm = len(key)\\nmk = len(key2)\\nslim = 5 * 10**5\\nfor i in range(slim-n):\\n    if len(e)+mk-1>slim:\\n        break\\n    if cost+costk+r<x:\\n        cost+=costk\\n        move+=1\\n        e=e[:-1]+key2\\n        seq.append(\"2 {} {} {}\".format(n, n, id+1))\\n    else:\\n        break\\nwhile(right<n):\\n    left = right\\n    right = left+m\\n    if right>n:\\n        break\\n    for j in range(left, right):\\n        if e[j]!=key[j-left]:\\n            dv = abs(value(e[j]) - value(key[j-left]))\\n            if cost+dv+r<x:\\n                cost+=dv\\n                move+=1\\n                seq.append(\"1 {} {}\".format(j+1, key[j-left]))\\nif cost+r<=x:\\n    move+=1\\n    cost += r\\n    seq.append(\"3 {} {}\".format(1, n))\\nprint(move)\\nfor i in seq:\\n    print(i)',\n  'tgt': 'n, m, a, x, r = map(int, input().split())\\ne = input()\\np, g = {}, []\\ndef value(c):\\n    if ord(c)>=97:\\n        return ord(c)-96\\n    return ord(c)-38\\nfor i in range(m):\\n    line = input().split()\\n    p[int(line[1])] = line[0]\\nfor i in range(a):\\n    line = input().split()\\n    g.append(tuple([int(line[1]), line[0]]))\\nseq, move, cost, right, flag = [], 0, 0, 0, False\\nnewp = max(p.keys())\\nnewg = g[0][0]\\nid = 0\\nfor i in range(a):\\n    if g[i][0]<newg:\\n        newg = g[i][0]\\n        id = i\\nfor j in p.values():\\n    if p[newp]==j:\\n        key = j\\n        break\\nkey2, costk = g[id][1], g[id][0]\\nm = len(key)\\nmk = len(key2)\\nslim = 10**5\\nfor i in range(slim-n):\\n    if len(e)+mk-1>slim:\\n        break\\n    if cost+costk+r<x:\\n        cost+=costk\\n        move+=1\\n        e=e[:-1]+key2\\n        seq.append(\"2 {} {} {}\".format(n, n, id+1))\\n    else:\\n        break\\nwhile(right<n):\\n    left = right\\n    right = left+m\\n    if right>n:\\n        break\\n    for j in range(left, right):\\n        if e[j]!=key[j-left]:\\n            dv = abs(value(e[j]) - value(key[j-left]))\\n            if cost+dv+r<x:\\n                cost+=dv\\n                move+=1\\n                seq.append(\"1 {} {}\".format(j+1, key[j-left]))\\nif cost+r<=x:\\n    move+=1\\n    cost += r\\n    seq.append(\"3 {} {}\".format(1, n))\\nprint(move)\\nfor i in seq:\\n    print(i)'},\n 'MAGICMOD_68': {'id': 'MAGICMOD_68',\n  'src': '# cook your dish here\\nfrom math import sqrt\\ndef divisors(x):\\n    l=[]\\n    for i in range(1,int(sqrt(x))+1):\\n        if x%i==0:\\n            l.append(i)\\n            l.append(x//i)\\n    return l\\ndef isperm(l):\\n    x=len(l)\\n    p=set([])\\n    for i in l:\\n        if i>x or i<1:\\n            return 0\\n        elif i in p:\\n            return 0\\n            break\\n        else:\\n            p.add(i)\\n    return 1\\nfor _ in range(int(input())):\\n    n=int(input())\\n    a=list(map(int,input().split()))\\n    mx=max(a)\\n    ans=0\\n    num=sum(a)+((n)*(n+1)//2)\\n    if isperm(a):\\n        print(\"YES\")\\n    else:\\n        div=divisors(num)\\n        possiblex=[]\\n        for i in div:\\n            possiblex.append(num//i)\\n        for i in possiblex:\\n            if i>n and i<mx+1:\\n                b=[j%i for j in a]\\n                if isperm(b):\\n                    ans=1\\n            if ans==1:\\n                break\\n        if ans:\\n            print(\"YES\")\\n        else:\\n            print(\"NO\")',\n  'tgt': '# cook your dish here\\nfrom math import sqrt\\ndef divisors(x):\\n    l=[]\\n    for i in range(1,int(sqrt(x))+1):\\n        if x%i==0:\\n            l.append(i)\\n            l.append(x//i)\\n    return l\\ndef isperm(l):\\n    x=len(l)\\n    p=set([])\\n    for i in l:\\n        if i>x or i<1:\\n            return 0\\n        elif i in p:\\n            return 0\\n            break\\n        else:\\n            p.add(i)\\n    return 1\\nfor _ in range(int(input())):\\n    n=int(input())\\n    a=list(map(int,input().split()))\\n    mx=max(a)\\n    ans=0\\n    num=sum(a)-((n)*(n+1)//2)\\n    if isperm(a):\\n        print(\"YES\")\\n    else:\\n        div=divisors(num)\\n        possiblex=[]\\n        for i in div:\\n            possiblex.append(num//i)\\n        for i in possiblex:\\n            if i>n and i<mx+1:\\n                b=[j%i for j in a]\\n                if isperm(b):\\n                    ans=1\\n            if ans==1:\\n                break\\n        if ans:\\n            print(\"YES\")\\n        else:\\n            print(\"NO\")'},\n 'CHRL4_1912': {'id': 'CHRL4_1912',\n  'src': 'N,K = map(int , input().split())\\nn = list(map(int , input().split()))\\n\\nQ = [[0,n[0]]]\\t# N(i-th) , K(i-th)\\nfor i in range(1,N):\\n\\tif(Q[0][0] + K < i):\\n\\t\\tQ.pop(0)\\n\\n\\tproduct = Q[0][1] * n[i]\\n\\n\\twhile(Q[-1][1] >= product and len(Q) > 1):\\n\\t\\tQ.pop()\\n\\tQ.append([i,product])\\n\\nprint(Q[-1][1])',\n  'tgt': 'N,K = map(int , input().split())\\nn = list(map(int , input().split()))\\n\\nQ = [[0,n[0]]]\\t# N(i-th) , K(i-th)\\nfor i in range(1,N):\\n\\tif(Q[0][0] + K < i):\\n\\t\\tQ.pop(0)\\n\\n\\tproduct = Q[0][1] * n[i]\\n\\n\\twhile(Q[-1][1] >= product and len(Q) > 1):\\n\\t\\tQ.pop()\\n\\tQ.append([i,product])\\n\\nprint(Q[-1][1] % 1000000007)'},\n 'MAXLIS_305': {'id': 'MAXLIS_305',\n  'src': 'import io, sys, atexit, os\\nimport math as ma\\nfrom sys import exit\\nfrom decimal import Decimal as dec\\nfrom itertools import permutations\\nfrom itertools import combinations\\n\\n\\ndef li ():\\n\\treturn list (map (int, sys.stdin.readline ().split ()))\\n\\n\\ndef num ():\\n\\treturn map (int, sys.stdin.readline ().split ())\\n\\n\\ndef nu ():\\n\\treturn int (input ())\\n\\n\\ndef find_gcd ( x, y ):\\n\\twhile (y):\\n\\t\\tx, y = y, x % y\\n\\treturn x\\n\\n\\ndef lcm ( x, y ):\\n\\tgg = find_gcd (x, y)\\n\\treturn (x * y // gg)\\n\\n\\nmm = 1000000007\\n\\n\\ndef solve ():\\n\\tt = 1\\n\\tfor tt in range (t):\\n\\t\\tn,k=num()\\n\\t\\ta=li()\\n\\t\\tif(n==k):\\n\\t\\t\\ta.sort()\\n\\t\\t\\tprint(*a)\\n\\t\\telse:\\n\\t\\t\\thp=k//2\\n\\t\\t\\tgg=sorted(a)\\n\\n\\t\\t\\typ=gg[0:hp]\\n\\t\\t\\tif (hp == 0):\\n\\t\\t\\t\\ta.sort()\\n\\t\\t\\t\\tprint(*a)\\n\\t\\t\\t\\tcontinue\\n\\t\\t\\tup=set(yp)\\n\\t\\t\\tfor i in range(n):\\n\\t\\t\\t\\tif(a[i] in up):\\n\\t\\t\\t\\t\\tcontinue\\n\\t\\t\\t\\typ.append(a[i])\\n\\t\\t\\tprint(*yp)\\n\\n\\n\\nif __name__ == \"__main__\":\\n\\tsolve ()',\n  'tgt': 'import io, sys, atexit, os\\nimport math as ma\\nfrom sys import exit\\nfrom decimal import Decimal as dec\\nfrom itertools import permutations\\nfrom itertools import combinations\\n\\n\\ndef li ():\\n\\treturn list (map (int, sys.stdin.readline ().split ()))\\n\\n\\ndef num ():\\n\\treturn map (int, sys.stdin.readline ().split ())\\n\\n\\ndef nu ():\\n\\treturn int (input ())\\n\\n\\ndef find_gcd ( x, y ):\\n\\twhile (y):\\n\\t\\tx, y = y, x % y\\n\\treturn x\\n\\n\\ndef lcm ( x, y ):\\n\\tgg = find_gcd (x, y)\\n\\treturn (x * y // gg)\\n\\n\\nmm = 1000000007\\n\\n\\ndef solve ():\\n\\tt = 1\\n\\tfor tt in range (t):\\n\\t\\tn,k=num()\\n\\t\\ta=li()\\n\\t\\tif(n==k):\\n\\t\\t\\ta.sort()\\n\\t\\t\\tprint(*a)\\n\\t\\telse:\\n\\t\\t\\thp=max(0,k//2-2)\\n\\t\\t\\tgg=sorted(a)\\n\\n\\t\\t\\typ=gg[0:hp]\\n\\t\\t\\tif (hp == 0):\\n\\t\\t\\t\\ta.sort()\\n\\t\\t\\t\\tprint(*a)\\n\\t\\t\\t\\tcontinue\\n\\t\\t\\tup=set(yp)\\n\\t\\t\\tfor i in range(n):\\n\\t\\t\\t\\tif(a[i] in up):\\n\\t\\t\\t\\t\\tcontinue\\n\\t\\t\\t\\typ.append(a[i])\\n\\t\\t\\tprint(*yp)\\n\\n\\n\\nif __name__ == \"__main__\":\\n\\tsolve ()'},\n 'HFSEQ_18': {'id': 'HFSEQ_18',\n  'src': 'from itertools import combinations\\nfrom math import *\\nfor _ in range(int(input())):\\n    n=int(input())\\n    tmp=list(map(int,input().split()))\\n    a=[]\\n    for i in tmp:\\n        if i%2==0:\\n            a.append(i)\\n    n=(n+1)//2\\n    if len(a)<n:\\n        print(\"NO\")\\n        continue\\n    comb=combinations(a,n)\\n    if n<=6:\\n        ver=False\\n        for i in comb:\\n            i=list(i)\\n            g=i[0]\\n            for j in range(1,len(i)):\\n                g=gcd(g,i[j])\\n            if g==2:\\n                ver=True\\n                break\\n        if ver:\\n            print(\"YES\")\\n        else:\\n            print(\"NO\")\\n    else:\\n        g=a[0]\\n        for i in range(1,len(a)):\\n            g=gcd(g,a[i])\\n        if g==2:\\n            print(\"YES\")\\n        else:\\n            print(\"NO\")',\n  'tgt': 'from itertools import combinations\\nfrom math import *\\nfor _ in range(int(input())):\\n    n=int(input())\\n    tmp=list(map(int,input().split()))\\n    a=[]\\n    for i in tmp:\\n        if i%2==0:\\n            a.append(i)\\n    n=(n+1)//2\\n    if len(a)<n:\\n        print(\"NO\")\\n        continue\\n    comb=combinations(a,n)\\n    if n<=8:\\n        ver=False\\n        for i in comb:\\n            i=list(i)\\n            g=i[0]\\n            for j in range(1,len(i)):\\n                g=gcd(g,i[j])\\n            if g==2:\\n                ver=True\\n                break\\n        if ver:\\n            print(\"YES\")\\n        else:\\n            print(\"NO\")\\n    else:\\n        g=a[0]\\n        for i in range(1,len(a)):\\n            g=gcd(g,a[i])\\n        if g==2:\\n            print(\"YES\")\\n        else:\\n            print(\"NO\")'},\n 'CARDLINE_3': {'id': 'CARDLINE_3',\n  'src': \"import sys\\nimport array\\n\\nupper_bound = 2005\\npos = array.array('Q', [0 for _ in range(2010)])\\nf = [array.array('Q', [0 for _ in range(2010)]) for _ in range(2010)]\\n\\ndef init(stop):\\n    for i in range(1, stop + 2):\\n        for j in range(1, i + 1):\\n            f[i][j] = max(f[i][j], f[i-j][j] + j - 1)\\n            if(i>=j+1): f[i][j] = max(f[i][j], f[i-j-1][j] + j)\\n\\n\\ninit(upper_bound)\\nt = int(input())\\nfor _ in range(t):\\n    n = int(input())\\n    a = tuple(map(int, sys.stdin.readline().strip().split()))\\n    for i,it in enumerate(a): pos[it] = i\\n    b = tuple(map(int, sys.stdin.readline().strip().split()))\\n    ct = array.array('Q', [0 for _ in range(n+1)])\\n    vis = array.array('Q', [0 for _ in range(n+1)])\\n    for i in range(n):\\n        if vis[i] == 0:\\n            now = i; su = 0\\n            while vis[now] == 0:\\n                vis[now] = 1\\n                su += 1\\n                now = pos[b[now]]\\n            ct[su] += 1\\n    answ = ct[0]\\n    v = [j for j in range(1, n+1) if ct[j] != 0]\\n    for i in range(1, n + 1):\\n        ret = 0\\n        for j in v: ret += ct[j]*f[j][i]\\n        answ = max(answ, ret)\\n    print(answ)\",\n  'tgt': \"import sys\\nimport array\\n\\nupper_bound = 2005\\npos = array.array('Q', [0 for _ in range(2010)])\\nf = [array.array('Q', [0 for _ in range(2010)]) for _ in range(2010)]\\n\\ndef init(stop):\\n    for i in range(1, stop + 2):\\n        for j in range(1, i + 1):\\n            f[i][j] = max(f[i][j], f[i-j][j] + j - 1)\\n            if(i>=j+1): f[i][j] = max(f[i][j], f[i-j-1][j] + j)\\n\\n\\ninit(upper_bound)\\nt = int(input())\\nfor _ in range(t):\\n    n = int(input())\\n    a = tuple(map(int, sys.stdin.readline().strip().split()))\\n    for i,it in enumerate(a): pos[it] = i\\n    b = tuple(map(int, sys.stdin.readline().strip().split()))\\n    ct = array.array('Q', [0 for _ in range(n+1)])\\n    vis = array.array('Q', [0 for _ in range(n+1)])\\n    for i in range(n):\\n        if vis[i] == 0:\\n            now = i; su = 0\\n            while vis[now] == 0:\\n                vis[now] = 1\\n                su += 1\\n                now = pos[b[now]]\\n            ct[su] += 1\\n    answ = ct[1]\\n    v = [j for j in range(1, n+1) if ct[j] != 0]\\n    for i in range(1, n + 1):\\n        ret = 0\\n        for j in v: ret += ct[j]*f[j][i]\\n        answ = max(answ, ret)\\n    print(answ)\"},\n 'BOJACK_247': {'id': 'BOJACK_247',\n  'src': 'testcases = int(input())\\n\\nfor itr in range(testcases):\\n    \\n    D = int(input())\\n    \\n    # leng = 2*D\\n    ans = \"\"\\n    \\n    for i in range(D):\\n        ans += \"a\"\\n    for i in range(D):\\n        ans += \"b\"\\n    \\n    print(ans)',\n  'tgt': 'testcases = int(input())\\n\\nfor itr in range(testcases):\\n    \\n    D = int(input())\\n    \\n    # leng = 2*D\\n    ans = \"\"\\n    \\n    for i in range(D):\\n        ans += \"a\"\\n    for i in range(D):\\n        ans += \"b\"\\n    \\n    print(2*D)\\n    print(ans)'},\n 'ANTHILL_75': {'id': 'ANTHILL_75',\n  'src': '# cook your dish here\\nn,m,a,r=map(int,input().split())\\nlist=[]\\nprint(n,m,a,r)\\nfor _ in range(m):\\n    u,v=map(int,input().split())\\n    list.append((u,v))\\nprint(m)\\nfor i in list:\\n    print(1,1,i[0],i[1])\\nprint(0)',\n  'tgt': '# cook your dish here\\nn,m,a,r=map(int,input().split())\\nlist=[]\\nfor _ in range(m):\\n    u,v=map(int,input().split())\\n    list.append((u,v))\\nprint(m)\\nfor i in list:\\n    print(1,1,i[0],i[1])\\nprint(0)'},\n 'SNCK99_149': {'id': 'SNCK99_149',\n  'src': \"n,m = map(int,input().split())\\ns = map(int,input().split())\\nw = map(int,input().split())\\ngraph = {i:[] for i in range(1,n+1)}\\nfor i in range(m):\\n    u,v = map(int,input().split())\\n    graph[u]=v\\n    graph[v]=u\\nfor i in range(1,m+1):\\n    print(i)\\n    input().split()\\nprint(-1)\\nprint('C'*(n//2)+'W'*(n-(n//2)))\",\n  'tgt': \"n,m = map(int,input().split())\\ns = map(int,input().split())\\nw = map(int,input().split())\\ngraph = {i:[] for i in range(1,n+1)}\\nfor i in range(m):\\n    u,v = map(int,input().split())\\n    graph[u]=v\\n    graph[v]=u\\nfor i in range(1,m+1):\\n    print(i)\\n    input().split()\\nprint(-1)\\nprint('C'*(n//2)+'G'*(n-(n//2)))\"},\n 'ENCODING_526': {'id': 'ENCODING_526',\n  'src': 't=int(input())\\nM=1000000007\\ntsum=[0]*100001\\ntsum[1]=0\\ntsum[2]=45\\nfor i in range(3,100001):\\n    tsum[i]=(((45%M)*pow(100,i-2,M)%M)%M+(10*tsum[i-1])%M)%M\\nfor _ in range(t):\\n    d1=0\\n    d2=0\\n    n,s1=map(str,input().split())\\n    m,s2=map(str,input().split())\\n    n=int(n)\\n    m=int(m)\\n    a1=[0]*(n+1)\\n    a2=[0]*(m+1)\\n    for i in range(1,len(a1)):\\n        a1[i]=ord(s1[i-1])-ord(\"0\")\\n    for i in range(1,len(a2)):\\n        a2[i]=ord(s2[i-1])-ord(\"0\")\\n    n1=[0]*(n+1)\\n    n2=[0]*(m+1)\\n    n1[n]=a1[n]\\n    n2[m]=a2[m]\\n    i=n-1\\n    while i>=1:\\n        n1[i]=((n1[i+1])%M+(a1[i]%M*pow(10,n-i,M)%M)%M)%M\\n        i=i-1\\n    i=m-1\\n    while i>=1:\\n        n2[i]=((n2[i+1])%M+(a2[i]%M*pow(10,m-i,M)%M)%M)%M\\n        i=i-1\\n    i=0    \\n    for i in range(1,n):\\n        if a1[i]==0:\\n            continue\\n        if i==1:\\n            d1=(d1%M+(a1[i]%M*tsum[n-i]%M)%M+((((a1[i]-1)*a1[i])//2)%M)*(pow(100,n-i-1,M)%M)%M)%M\\n        else:\\n            if a1[i]<a1[i-1]:\\n                d1=(d1%M+(a1[i]%M*tsum[n-i]%M)%M+((((a1[i]-1)*a1[i])//2)%M)*(pow(100,n-i-1,M)%M)%M)%M\\n            elif a1[i]==a1[i-1]:\\n                d1=((d1%M+(a1[i]%M*tsum[n-i]%M)%M+((((a1[i]-1)*a1[i])//2)%M)*(pow(100,n-i-1,M)%M)%M)%M+(((a1[i-1]%M*(n1[i+1]+1)%M)%M)%M*pow(10,n-i,M)%M)%M)%M\\n            elif a1[i]>a1[i-1]:\\n                d1=((d1%M+(a1[i]%M*tsum[n-i]%M)%M+((((a1[i]-1)*a1[i])//2)%M)*(pow(100,n-i-1,M)%M)%M)%M+(a1[i-1]%M*pow(100,n-i,M)%M)%M)%M\\n    if a1[n-1]<=a1[n]:\\n        d1=(d1%M+a1[n-1]%M)%M\\n    for i in range(1,m):\\n        if a2[i]==0:\\n            continue\\n        if i==1:\\n            d2=(d2%M+(a2[i]%M*tsum[m-i]%M)%M+((((a2[i]-1)*a2[i])//2)%M)*(pow(100,m-i-1,M)%M)%M)%M\\n        else:\\n            if a2[i]<a2[i-1]:\\n                d2=(d2%M+(a2[i]%M*tsum[m-i]%M)%M+((((a2[i]-1)*a2[i])//2)%M)*(pow(100,m-i-1,M)%M)%M)%M\\n            elif a2[i]==a2[i-1]:\\n                d2=((d2%M+(a2[i]%M*tsum[m-i]%M)%M+((((a2[i]-1)*a2[i])//2)%M)*(pow(100,m-i-1,M)%M)%M)%M+(((a2[i-1]%M*(n2[i+1]+1)%M)%M)%M*pow(10,m-i,M)%M)%M)%M\\n            elif a2[i]>a2[i-1]:\\n                d2=((d2%M+(a2[i]%M*tsum[m-i]%M)%M+((((a2[i]-1)*a2[i])//2)%M)*(pow(100,m-i-1,M)%M)%M)%M+(a2[i-1]%M*pow(100,m-i,M)%M)%M)%M\\n    if a2[m-1]<=a2[m]:\\n        d2=(d2%M+a2[m-1]%M)%M\\n    number=0    \\n    i=n\\n    while i>=2:\\n        if a1[i]!=a1[i-1]:\\n            number=(number%M+(a1[i]%M*pow(10,n-i,M)%M)%M)%M\\n        i=i-1    \\n    number=(number%M+(a1[1]%M*pow(10,n-1,M)%M)%M)%M \\n    now1=(d2%M-d1%M+M)%M\\n    now2=(((n2[1]%M*(n2[1]+1)%M)%M-(n1[1]%M*(n1[1]+1)%M)%M+M)%M*500000004)%M\\n    final=(now2%M-now1%M+M)%M\\n    soln=(final%M)%M\\n    print(soln)',\n  'tgt': 't=int(input())\\nM=1000000007\\ntsum=[0]*100001\\ntsum[1]=0\\ntsum[2]=45\\nfor i in range(3,100001):\\n    tsum[i]=(((45%M)*pow(100,i-2,M)%M)%M+(10*tsum[i-1])%M)%M\\nfor _ in range(t):\\n    d1=0\\n    d2=0\\n    n,s1=map(str,input().split())\\n    m,s2=map(str,input().split())\\n    n=int(n)\\n    m=int(m)\\n    a1=[0]*(n+1)\\n    a2=[0]*(m+1)\\n    for i in range(1,len(a1)):\\n        a1[i]=ord(s1[i-1])-ord(\"0\")\\n    for i in range(1,len(a2)):\\n        a2[i]=ord(s2[i-1])-ord(\"0\")\\n    n1=[0]*(n+1)\\n    n2=[0]*(m+1)\\n    n1[n]=a1[n]\\n    n2[m]=a2[m]\\n    i=n-1\\n    while i>=1:\\n        n1[i]=((n1[i+1])%M+(a1[i]%M*pow(10,n-i,M)%M)%M)%M\\n        i=i-1\\n    i=m-1\\n    while i>=1:\\n        n2[i]=((n2[i+1])%M+(a2[i]%M*pow(10,m-i,M)%M)%M)%M\\n        i=i-1\\n    i=0    \\n    for i in range(1,n):\\n        if a1[i]==0:\\n            continue\\n        if i==1:\\n            d1=(d1%M+(a1[i]%M*tsum[n-i]%M)%M+((((a1[i]-1)*a1[i])//2)%M)*(pow(100,n-i-1,M)%M)%M)%M\\n        else:\\n            if a1[i]<a1[i-1]:\\n                d1=(d1%M+(a1[i]%M*tsum[n-i]%M)%M+((((a1[i]-1)*a1[i])//2)%M)*(pow(100,n-i-1,M)%M)%M)%M\\n            elif a1[i]==a1[i-1]:\\n                d1=((d1%M+(a1[i]%M*tsum[n-i]%M)%M+((((a1[i]-1)*a1[i])//2)%M)*(pow(100,n-i-1,M)%M)%M)%M+(((a1[i-1]%M*(n1[i+1]+1)%M)%M)%M*pow(10,n-i,M)%M)%M)%M\\n            elif a1[i]>a1[i-1]:\\n                d1=((d1%M+(a1[i]%M*tsum[n-i]%M)%M+((((a1[i]-1)*a1[i])//2)%M)*(pow(100,n-i-1,M)%M)%M)%M+(a1[i-1]%M*pow(100,n-i,M)%M)%M)%M\\n    if a1[n-1]<=a1[n]:\\n        d1=(d1%M+a1[n-1]%M)%M\\n    for i in range(1,m):\\n        if a2[i]==0:\\n            continue\\n        if i==1:\\n            d2=(d2%M+(a2[i]%M*tsum[m-i]%M)%M+((((a2[i]-1)*a2[i])//2)%M)*(pow(100,m-i-1,M)%M)%M)%M\\n        else:\\n            if a2[i]<a2[i-1]:\\n                d2=(d2%M+(a2[i]%M*tsum[m-i]%M)%M+((((a2[i]-1)*a2[i])//2)%M)*(pow(100,m-i-1,M)%M)%M)%M\\n            elif a2[i]==a2[i-1]:\\n                d2=((d2%M+(a2[i]%M*tsum[m-i]%M)%M+((((a2[i]-1)*a2[i])//2)%M)*(pow(100,m-i-1,M)%M)%M)%M+(((a2[i-1]%M*(n2[i+1]+1)%M)%M)%M*pow(10,m-i,M)%M)%M)%M\\n            elif a2[i]>a2[i-1]:\\n                d2=((d2%M+(a2[i]%M*tsum[m-i]%M)%M+((((a2[i]-1)*a2[i])//2)%M)*(pow(100,m-i-1,M)%M)%M)%M+(a2[i-1]%M*pow(100,m-i,M)%M)%M)%M\\n    if a2[m-1]<=a2[m]:\\n        d2=(d2%M+a2[m-1]%M)%M\\n    number=0    \\n    i=n\\n    while i>=2:\\n        if a1[i]!=a1[i-1]:\\n            number=(number%M+(a1[i]%M*pow(10,n-i,M)%M)%M)%M\\n        i=i-1    \\n    number=(number%M+(a1[1]%M*pow(10,n-1,M)%M)%M)%M \\n    now1=(d2%M-d1%M+M)%M\\n    now2=(((n2[1]%M*(n2[1]+1)%M)%M-(n1[1]%M*(n1[1]+1)%M)%M+M)%M*500000004)%M\\n    final=(now2%M-now1%M+M)%M\\n    soln=(final%M+number%M)%M\\n    print(soln)'},\n 'CHEFSORT_48': {'id': 'CHEFSORT_48',\n  'src': 'for _ in range(int(input())):\\n    n=int(input())\\n    a=list(map(int,input().split()))\\n    probs=0\\n    for i in range(1,n):\\n        if a[i]<a[i-1]:\\n            probs+=1\\n    ops=[]\\n    mask=(1<<30)-1\\n    if probs>(n//2):\\n        ops.append([3,1,mask])\\n        for i in range(n):\\n            a[i]^=mask\\n    for i in range(1,n):\\n        if a[i]<a[i-1]:\\n            d=a[i-1]-a[i]\\n            ops.append([2,i+1,d])\\n            for j in range(i,n):\\n                a[j]+=d\\n    print(len(ops))\\n    for i in ops:\\n        print(*i)',\n  'tgt': 'for _ in range(int(input())):\\n    n=int(input())\\n    a=list(map(int,input().split()))\\n    probs=0\\n    for i in range(1,n):\\n        if a[i]<a[i-1]:\\n            probs+=1\\n    ops=[]\\n    mask=(1<<30)-1\\n    if probs>(n//2):\\n        ops.append([3,n,mask])\\n        for i in range(n):\\n            a[i]^=mask\\n    for i in range(1,n):\\n        if a[i]<a[i-1]:\\n            d=a[i-1]-a[i]\\n            ops.append([2,i+1,d])\\n            for j in range(i,n):\\n                a[j]+=d\\n    print(len(ops))\\n    for i in ops:\\n        print(*i)'},\n 'FIBOSEQ_447': {'id': 'FIBOSEQ_447',\n  'src': '# cook your dish here\\ndp = [0]*(100000+2)\\nfibPow = [0]*(100000+2)\\nfibPow[0] = 2\\nfibPow[1] = 2\\ndp[1] = 1\\nm=1000000007\\n\\n    \\nfor i in range(2, 100000+2):\\n    # print(fib[i-1], fib[i-2], pow[fib[i-1]], pow[fib[i-2]])\\n    fibPow[i] = (fibPow[i-1]*fibPow[i-2])%m\\n    dp[i] = ((dp[i-1]*fibPow[i-2])%m+(dp[i-2]*fibPow[i-1])%m)\\n    # print(i, dp[i])\\n    \\n\\nfor _ in range(int(input())):\\n    n = int(input())\\n    print(dp[n])',\n  'tgt': '# cook your dish here\\ndp = [0]*(100000+2)\\nfibPow = [0]*(100000+2)\\nfibPow[0] = 2\\nfibPow[1] = 2\\ndp[1] = 1\\nm=1000000007\\n\\n    \\nfor i in range(2, 100000+2):\\n    # print(fib[i-1], fib[i-2], pow[fib[i-1]], pow[fib[i-2]])\\n    fibPow[i] = (fibPow[i-1]*fibPow[i-2])%m\\n    dp[i] = (((dp[i-1]*fibPow[i-2])%m)+((dp[i-2]*fibPow[i-1])%m))%m\\n    # print(i, dp[i])\\n    \\n\\nfor _ in range(int(input())):\\n    n = int(input())\\n    print(dp[n])'},\n 'FINDMOD_31': {'id': 'FINDMOD_31',\n  'src': \"lim=1000000000000000001\\nfor _ in range(int(input())):\\n    print(f'? {lim}')\\n    x=int(input())\\n    print(f'? {lim-x}')\\n    y=int(input())\\n    print(f'! {y+1}')\",\n  'tgt': \"lim=1000000000000000001\\nfor _ in range(int(input())):\\n    print(f'? {lim}')\\n    x=int(input())\\n    print(f'? {lim-x-1}')\\n    y=int(input())\\n    print(f'! {y+1}')\"}}"
     },
     "execution_count": 34,
     "metadata": {},
     "output_type": "execute_result"
    }
   ],
   "source": [
    "single_samples"
   ],
   "metadata": {
    "collapsed": false,
    "pycharm": {
     "name": "#%%\n"
    }
   }
  },
  {
   "cell_type": "code",
   "execution_count": 9,
   "outputs": [],
   "source": [
    "import difflib"
   ],
   "metadata": {
    "collapsed": false,
    "pycharm": {
     "name": "#%%\n"
    }
   }
  },
  {
   "cell_type": "code",
   "execution_count": 10,
   "outputs": [],
   "source": [
    "def view_sample(sample):\n",
    "    print(f'[{sample[\"id\"]}]\\n--------\\n[Wrong]\\n{sample[\"src\"]}\\n--------\\n[Correct]\\n{sample[\"tgt\"]}\\n--------')\n",
    "    diff = difflib.context_diff(sample['src'].split('\\n'), sample['tgt'].split('\\n'))\n",
    "    print(f'[Diff]\\n')\n",
    "    for l in diff:\n",
    "        print(l)\n",
    "    print('====')"
   ],
   "metadata": {
    "collapsed": false,
    "pycharm": {
     "name": "#%%\n"
    }
   }
  },
  {
   "cell_type": "code",
   "execution_count": 35,
   "outputs": [
    {
     "data": {
      "text/plain": "{'id': 'CATSRATS_43',\n 'src': '# cook your dish here\\nclass Animal:\\n    def __init__(self):\\n        start, end, starting_time = map(int, input().split())\\n        \\n        self.ending_time = starting_time + abs(start - end)\\n        self.velocity = 1 if end >= start else -1 \\n        \\n        self.eaten_by = -1, 10 ** 10\\n        \\n        self.start = start \\n        self.end = end \\n        self.starting_time = starting_time \\n        \\n    def will_collide(self, z):\\n        if self.starting_time > z.ending_time or self.ending_time < z.starting_time:\\n            return False \\n            \\n        if self.velocity == z.velocity:\\n            if self.starting_time > z.starting_time:\\n                self, z = z, self\\n            if z.start == self.start + self.velocity * (z.starting_time - self.starting_time):\\n                return z.starting_time\\n            else:\\n                return False\\n        \\n        if self.velocity == -1:\\n            self, z = z, self\\n        \\n        t = ( z.start - self.start + z.starting_time + self.starting_time ) >> 1 \\n         \\n        return t if self.starting_time <= t <= self.ending_time and z.starting_time <= t <= z.ending_time else False\\n                \\n        \\n        \\ndef main():\\n    for _ in range(int(input())):\\n        no_cats, no_rats = map(int, input().split())\\n        \\n        Cats = [Animal() for i in range(no_cats)]\\n        \\n        for i in range(no_rats):\\n            rat = Animal() \\n            for j in range(no_cats):\\n                time = rat.will_collide(Cats[j])\\n                if time:\\n                    # print(time)\\n                    if time < rat.eaten_by[1]:\\n                        rat.eaten_by = j + 1, time \\n                    \\n                \\n            print(rat.eaten_by[0])\\n                \\n                \\n            \\nmain()',\n 'tgt': '# cook your dish here\\nclass Animal:\\n    def __init__(self):\\n        start, end, starting_time = map(int, input().split())\\n        \\n        self.ending_time = starting_time + abs(start - end)\\n        self.velocity = 1 if end >= start else -1 \\n        \\n        self.eaten_by = -1, 10 ** 10\\n        \\n        self.start = start \\n        self.end = end \\n        self.starting_time = starting_time \\n        \\n    def will_collide(self, z):\\n        if self.starting_time > z.ending_time or self.ending_time < z.starting_time:\\n            return False \\n            \\n        if self.velocity == z.velocity:\\n            if self.starting_time > z.starting_time:\\n                self, z = z, self\\n            if z.start == self.start + self.velocity * (z.starting_time - self.starting_time):\\n                return z.starting_time\\n            else:\\n                return False\\n        \\n        if self.velocity == -1:\\n            self, z = z, self\\n        \\n        t = ( z.start - self.start + z.starting_time + self.starting_time ) / 2 \\n         \\n        return t if self.starting_time <= t <= self.ending_time and z.starting_time <= t <= z.ending_time else False\\n                \\n        \\n        \\ndef main():\\n    for _ in range(int(input())):\\n        no_cats, no_rats = map(int, input().split())\\n        \\n        Cats = [Animal() for i in range(no_cats)]\\n        \\n        for i in range(no_rats):\\n            rat = Animal() \\n            for j in range(no_cats):\\n                time = rat.will_collide(Cats[j])\\n                if time:\\n                    # print(time)\\n                    if time < rat.eaten_by[1]:\\n                        rat.eaten_by = j + 1, time \\n                    \\n                \\n            print(rat.eaten_by[0])\\n                \\n                \\n            \\nmain()'}"
     },
     "execution_count": 35,
     "metadata": {},
     "output_type": "execute_result"
    }
   ],
   "source": [
    "single_samples[single_ids[0]]"
   ],
   "metadata": {
    "collapsed": false,
    "pycharm": {
     "name": "#%%\n"
    }
   }
  },
  {
   "cell_type": "code",
   "execution_count": 36,
   "outputs": [
    {
     "name": "stdout",
     "output_type": "stream",
     "text": [
      "[ANTIKNAPSACK_60]\n",
      "--------\n",
      "[Wrong]\n",
      "t = int(input())\n",
      "for i in range(t):\n",
      "    n,k = map(int,input().split())\n",
      "    res = 0\n",
      "    for i in range(1,20):\n",
      "        if not k % i:\n",
      "            res = i\n",
      "            break\n",
      "    for i in range(1,n+1):\n",
      "        print(res*i , end=\" \")\n",
      "    print()\n",
      "--------\n",
      "[Correct]\n",
      "t = int(input())\n",
      "for i in range(t):\n",
      "    n,k = map(int,input().split())\n",
      "    res = 0\n",
      "    for i in range(1,20):\n",
      "        if k % i:\n",
      "            res = i\n",
      "            break\n",
      "    for i in range(1,n+1):\n",
      "        print(res*i , end=\" \")\n",
      "    print()\n",
      "--------\n",
      "[Diff]\n",
      "\n",
      "*** \n",
      "\n",
      "--- \n",
      "\n",
      "***************\n",
      "\n",
      "*** 3,9 ****\n",
      "\n",
      "      n,k = map(int,input().split())\n",
      "      res = 0\n",
      "      for i in range(1,20):\n",
      "!         if not k % i:\n",
      "              res = i\n",
      "              break\n",
      "      for i in range(1,n+1):\n",
      "--- 3,9 ----\n",
      "\n",
      "      n,k = map(int,input().split())\n",
      "      res = 0\n",
      "      for i in range(1,20):\n",
      "!         if k % i:\n",
      "              res = i\n",
      "              break\n",
      "      for i in range(1,n+1):\n",
      "====\n"
     ]
    }
   ],
   "source": [
    "view_sample(single_samples[single_ids[1]])"
   ],
   "metadata": {
    "collapsed": false,
    "pycharm": {
     "name": "#%%\n"
    }
   }
  },
  {
   "cell_type": "code",
   "execution_count": 35,
   "outputs": [],
   "source": [],
   "metadata": {
    "collapsed": false,
    "pycharm": {
     "name": "#%%\n"
    }
   }
  },
  {
   "cell_type": "code",
   "execution_count": 65,
   "outputs": [],
   "source": [
    "def prompt_src_tgt(desc, src, tgt, tc_in, tc_out):\n",
    "    prompt = f'''You are the problem finder that should find the algorithmical error between given buggy code and correct code, with the problem description and the test case. The buggy code didn't pass the test case and correct code passed. You have to explain why the buggy code cannot pass that and what is different with the correct code.\n",
    "\n",
    "The problem description is as below:\n",
    "{desc}\n",
    "\n",
    "The buggy code is as below:\n",
    "```python3\n",
    "{src}\n",
    "```\n",
    "\n",
    "The failed testcase is as below:\n",
    "- Input:\n",
    "{tc_in}\n",
    "- Output:\n",
    "{tc_out}\n",
    "\n",
    "The correct code is as below:\n",
    "```python3\n",
    "{tgt}\n",
    "```\n",
    "\n",
    "The problem in the buggy code is, '''\n",
    "    return prompt"
   ],
   "metadata": {
    "collapsed": false,
    "pycharm": {
     "name": "#%%\n"
    }
   }
  },
  {
   "cell_type": "code",
   "execution_count": 66,
   "outputs": [],
   "source": [
    "def prompt_src (desc, code, tc_in, tc_out, line):\n",
    "    prompt = f'''Question: You are the code analyzer that should find the logical flaw at mentioned line in given code with the testcase. The code didn't pass the testcase, so you have to explain what flaws make the code not to be able to pass that.\n",
    "\n",
    "The problem description is as below:\n",
    "{desc}\n",
    "\n",
    "The code is as below:\n",
    "```python3\n",
    "{code}\n",
    "```\n",
    "And the code has a flaw in the line:\n",
    "{line}\n",
    "\n",
    "The failed testcase is as below:\n",
    "- Input:\n",
    "{tc_in}\n",
    "- Output:\n",
    "{tc_out}\n",
    "\n",
    "Answer: The flaw is, '''\n",
    "    print(prompt)\n",
    "    return prompt"
   ],
   "metadata": {
    "collapsed": false,
    "pycharm": {
     "name": "#%%\n"
    }
   }
  },
  {
   "cell_type": "code",
   "execution_count": 67,
   "outputs": [],
   "source": [
    "def get_prompt_src(sample):\n",
    "    return prompt_src(sample['desc'], sample['src'], sample['tc_in'], sample['tc_out'], sample['line'])"
   ],
   "metadata": {
    "collapsed": false,
    "pycharm": {
     "name": "#%%\n"
    }
   }
  },
  {
   "cell_type": "code",
   "execution_count": 68,
   "outputs": [],
   "source": [
    "def get_prompt_src_tgt(sample):\n",
    "    return prompt_src_tgt(sample['desc'], sample['src'], sample['tgt'], sample['tc_in'], sample['tc_out'])"
   ],
   "metadata": {
    "collapsed": false,
    "pycharm": {
     "name": "#%%\n"
    }
   }
  },
  {
   "cell_type": "code",
   "execution_count": 69,
   "outputs": [],
   "source": [
    "single_samples[single_ids[1]].update(dict(\n",
    "    desc='''You are given two integers N, K.\n",
    "\n",
    "Construct an array A consisting of N distinct positive integers such that the following conditions are met:\n",
    "- 1 <= A_i <= 2 * 10^4\n",
    "- There exists no subsequence of A with sum K.\n",
    "- If there are multiple answers, print any.\n",
    "- 1 <= K <= 20\n",
    "''',\n",
    "    tc_in='''2\n",
    "4 10\n",
    "10 1000000''',\n",
    "    tc_out='''1 2 5 6\n",
    "327 8695 4 19852 14 736 46 15 37 928''',\n",
    "    line='        if not k % i:'\n",
    "))"
   ],
   "metadata": {
    "collapsed": false,
    "pycharm": {
     "name": "#%%\n"
    }
   }
  },
  {
   "cell_type": "code",
   "execution_count": 70,
   "outputs": [],
   "source": [
    "\n",
    "# res = openai.Completion.create(\n",
    "#     prompt_src(src, tc_in, tc_out),\n",
    "#     max_tokens=2048,\n",
    "#     top_p=0.95,\n",
    "#     n=3,\n",
    "#     # stop=['\"\"\"', '# ', '##']\n",
    "# )\n",
    "res = openai.Completion.create(\n",
    "    model='code-davinci-002',\n",
    "    prompt=get_prompt_src_tgt(single_samples[single_ids[1]]),\n",
    "    temperature=0.3,\n",
    "    max_tokens=1024,\n",
    "    top_p=0.95,\n",
    "    n=3\n",
    ")"
   ],
   "metadata": {
    "collapsed": false,
    "pycharm": {
     "name": "#%%\n"
    }
   }
  },
  {
   "cell_type": "code",
   "execution_count": 71,
   "outputs": [
    {
     "name": "stdout",
     "output_type": "stream",
     "text": [
      "the bug is in the for loop.\n",
      "```python3\n",
      "for i in range(1,20):\n",
      "    if not k % i:\n",
      "        res = i\n",
      "        break\n",
      "```\n",
      "\n",
      "The correct code is as below:\n",
      "```python3\n",
      "for i in range(1,20):\n",
      "    if k % i:\n",
      "        res = i\n",
      "        break\n",
      "```\n",
      "\n",
      "The reason why the buggy code cannot pass the test case is, the buggy code will find the first factor of k, but the correct code will find the first non factor of k.\n",
      "\n",
      "The test case is as below:\n",
      "- Input:\n",
      "2\n",
      "4 10\n",
      "10 1000000\n",
      "- Output:\n",
      "1 2 5 6\n",
      "327 8695 4 19852 14 736 46 15 37 928\n",
      "\n",
      "The output is as below:\n",
      "- Output:\n",
      "1 2 5 6\n",
      "327 8695 4 19852 14 736 46 15 37 928\n",
      "\n",
      "The explanation is as below:\n",
      "- Explanation:\n",
      "The first test case is simple, the first non factor of 10 is 5.\n",
      "\n",
      "The second test case is a bit tricky, the first non factor of 1000000 is 327.\n",
      "\n",
      "The first non factor of 327 is 4.\n",
      "\n",
      "The first non factor of 4 is 2.\n",
      "\n",
      "The first non factor of 2 is 1.\n",
      "\n",
      "The first non factor of 1 is 1.\n",
      "\n",
      "The first non factor of 1 is 1.\n",
      "\n",
      "The first non factor of 1 is 1.\n",
      "\n",
      "The first non factor of 1 is 1.\n",
      "\n",
      "The first non factor of 1 is 1.\n",
      "\n",
      "The first non factor of 1 is 1.\n",
      "\n",
      "The first non factor of 1 is 1.\n",
      "\n",
      "The first non factor of 1 is 1.\n",
      "\n",
      "The first non factor of 1 is 1.\n",
      "\n",
      "The first non factor of 1 is 1.\n",
      "\n",
      "The first non factor of 1 is 1.\n",
      "\n",
      "The first non factor of 1 is 1.\n",
      "\n",
      "The first non factor of 1 is 1.\n",
      "\n",
      "The first non factor of 1 is 1.\n",
      "\n",
      "The first non factor of 1 is 1.\n",
      "\n",
      "The first non factor of 1 is 1.\n",
      "\n",
      "The first non factor of 1 is 1.\n",
      "\n",
      "The first non factor of 1 is 1.\n",
      "\n",
      "The first non factor of 1 is 1.\n",
      "\n",
      "The first non factor of 1 is 1.\n",
      "\n",
      "The first non factor of 1 is 1.\n",
      "\n",
      "The first non factor of 1 is 1.\n",
      "\n",
      "The first non factor of 1 is 1.\n",
      "\n",
      "The first non factor of 1 is 1.\n",
      "\n",
      "The first non factor of 1 is 1.\n",
      "\n",
      "The first non factor of 1 is 1.\n",
      "\n",
      "The first non factor of 1 is 1.\n",
      "\n",
      "The first non factor of 1 is 1.\n",
      "\n",
      "The first non factor of 1 is 1.\n",
      "\n",
      "The first non factor of 1 is 1.\n",
      "\n",
      "The first non factor of 1 is 1.\n",
      "\n",
      "The first non factor of 1 is 1.\n",
      "\n",
      "The first non factor of 1 is 1.\n",
      "\n",
      "The first non factor of 1 is 1.\n",
      "\n",
      "The first non factor of 1 is 1.\n",
      "\n",
      "The first non factor of 1 is 1.\n",
      "\n",
      "The first non factor of 1 is 1.\n",
      "\n",
      "The first non factor of 1 is 1.\n",
      "\n",
      "The first non factor of 1 is 1.\n",
      "\n",
      "The first non factor of 1 is 1.\n",
      "\n",
      "The first non factor of 1 is 1.\n",
      "\n",
      "The first non factor of 1 is 1.\n",
      "\n",
      "The first non factor of 1 is 1.\n",
      "\n",
      "The first non factor of 1 is 1.\n",
      "\n",
      "The first non factor of 1 is 1.\n",
      "\n",
      "The first non factor of 1 is 1.\n",
      "\n",
      "The first non factor of 1 is 1.\n",
      "\n",
      "The first non factor of 1 is 1.\n",
      "\n",
      "The first non factor of 1 is 1.\n",
      "\n",
      "The first non factor of 1 is 1.\n",
      "\n",
      "The first non factor of 1 is 1.\n",
      "\n",
      "The first non factor of 1 is 1.\n",
      "\n",
      "The first non factor of 1 is 1.\n",
      "\n",
      "The first non factor of 1 is 1.\n",
      "\n",
      "The first non factor of 1 is 1.\n",
      "\n",
      "The first non factor of 1 is 1.\n",
      "\n",
      "The first non factor of 1 is 1.\n",
      "\n",
      "The first non factor of 1 is 1.\n",
      "\n",
      "The first non factor of 1 is 1.\n",
      "\n",
      "The first non factor of 1 is 1.\n",
      "\n",
      "The first non factor of 1 is 1.\n",
      "\n",
      "The first non factor of 1 is 1.\n",
      "\n",
      "The first non factor of 1 is 1.\n",
      "\n",
      "The first non factor of 1 is 1.\n",
      "\n",
      "The first non factor of 1 is 1.\n",
      "\n",
      "The first non factor of 1 is 1.\n",
      "\n",
      "The first non factor of 1 is 1.\n",
      "\n",
      "\n",
      "--------\n",
      "the if statement should be \"if k % i:\" not \"if not k % i:\", because the problem description said that there exists no subsequence of A with sum K.\n",
      "\n",
      "The testcase input is 4 10, so the expected output should be 1 2 5 6, because the sum of the subsequence is 1 + 2 + 5 = 8, which is not equal to 10.\n",
      "\n",
      "The testcase input is 10 1000000, so the expected output should be 327 8695 4 19852 14 736 46 15 37 928, because the sum of the subsequence is 327 + 8695 + 19852 + 736 + 15 + 37 = 29508, which is not equal to 1000000.\n",
      "--------\n",
      "the if statement in the for loop.\n",
      "\n",
      "The correct code is, if k % i:\n",
      "\n",
      "The buggy code is, if not k % i:\n",
      "\n",
      "The reason is that, if k % i is 0, it means that there exists a subsequence of A with sum K.\n",
      "\n",
      "So, the correct code should be, if k % i:\n",
      "\n",
      "But the buggy code is, if not k % i:\n",
      "\n",
      "So, the buggy code will print the wrong answer.\n",
      "--------\n"
     ]
    }
   ],
   "source": [
    "for x in res.choices:\n",
    "    print(x.text)\n",
    "    print('--------')"
   ],
   "metadata": {
    "collapsed": false,
    "pycharm": {
     "name": "#%%\n"
    }
   }
  },
  {
   "cell_type": "code",
   "execution_count": null,
   "outputs": [],
   "source": [],
   "metadata": {
    "collapsed": false,
    "pycharm": {
     "name": "#%%\n"
    }
   }
  },
  {
   "cell_type": "code",
   "execution_count": 64,
   "outputs": [
    {
     "name": "stdout",
     "output_type": "stream",
     "text": [
      "[ENGLISH_900]\n",
      "--------\n",
      "[Wrong]\n",
      "\"\"\"\n",
      "Code Chef :: January 2020 Challenge :: English\n",
      "https://www.codechef.com/JAN20A/problems/ENGLISH\n",
      "\"\"\"\n",
      "\n",
      "def stanza_beauty(wd1, wd2):\n",
      "    \"\"\"\n",
      "    Returns the beauty of the stanza.  The beauty of the stanza is \n",
      "    the minimum of the lenght of the common prefix and the length\n",
      "    of the common suffix.\n",
      "    \"\"\"\n",
      "    L = min(len(wd1), len(wd2))\n",
      "    for i in range(L):\n",
      "        if wd1[i] != wd2[i] or wd1[-i-1] != wd2[-i-1]:\n",
      "            return i * i\n",
      "    return L * L\n",
      "\n",
      "\n",
      "def transform(wd):\n",
      "    return \"\".join(\"\".join((a, b)) for a, b in zip(wd, reversed(wd)))\n",
      "    \n",
      "def solve(N, words):\n",
      "    \"\"\"Solve puzzle.\"\"\"\n",
      "    words = sorted(words, key=transform)\n",
      "    stanzas = []\n",
      "    stanzas_append = stanzas.append\n",
      "    for i in range(N):\n",
      "        wd1 = words[i]\n",
      "        j = (i+1) % N\n",
      "        wd2 = words[j]\n",
      "        b = stanza_beauty(wd1, wd2)\n",
      "        if b > 0:\n",
      "            stanzas_append((b, i, j))\n",
      "\n",
      "    solution = 0\n",
      "    taken = set()\n",
      "    for weight, wd1, wd2 in sorted(stanzas,reverse=True):\n",
      "        if wd1 in taken or wd2 in taken:\n",
      "            continue\n",
      "        taken.add(wd1)\n",
      "        taken.add(wd2)\n",
      "        solution += weight\n",
      "    return solution\n",
      "\n",
      "\n",
      "def main():\n",
      "    \"\"\"Main program.\"\"\"\n",
      "    import sys\n",
      "    T = int(sys.stdin.readline())\n",
      "    for _ in range(T):\n",
      "        N = int(sys.stdin.readline())\n",
      "        words = []\n",
      "        for _ in range(N):\n",
      "            words.append(sys.stdin.readline().strip())\n",
      "        print(solve(N, words))\n",
      "\n",
      "\n",
      "if __name__ == '__main__':\n",
      "    main()\n",
      "--------\n",
      "[Correct]\n",
      "\"\"\"\n",
      "Code Chef :: January 2020 Challenge :: English\n",
      "https://www.codechef.com/JAN20A/problems/ENGLISH\n",
      "\"\"\"\n",
      "import heapq\n",
      "\n",
      "def stanza_beauty(wd1, wd2):\n",
      "    \"\"\"\n",
      "    Returns the beauty of the stanza.  The beauty of the stanza is \n",
      "    the minimum of the lenght of the common prefix and the length\n",
      "    of the common suffix.\n",
      "    \"\"\"\n",
      "    L = min(len(wd1), len(wd2))\n",
      "    for i in range(L):\n",
      "        if wd1[i] != wd2[i] or wd1[-i-1] != wd2[-i-1]:\n",
      "            return i * i\n",
      "    return L * L\n",
      "\n",
      "\n",
      "def transform(wd):\n",
      "    \"\"\"\n",
      "    Transform word so as to sort words of greater beauty together.\n",
      "    \"\"\"\n",
      "    return \"\".join(\"\".join((a, b)) for a, b in zip(wd, reversed(wd)))\n",
      "    \n",
      "\n",
      "def solve(N, words):\n",
      "    \"\"\"Solve puzzle.\"\"\"\n",
      "    words = sorted(words, key=transform)\n",
      "    nxt = [None for _ in range(N)]\n",
      "    prv = [None for _ in range(N)]\n",
      "    stanzas = []\n",
      "    for i in range(N-1):\n",
      "        wd1 = words[i]\n",
      "        j = i + 1\n",
      "        wd2 = words[j]\n",
      "        b = stanza_beauty(wd1, wd2)\n",
      "        nxt[i] = j\n",
      "        prv[j] = i\n",
      "        if b > 0:\n",
      "            heapq.heappush(stanzas, (-b, i, j))\n",
      "\n",
      "    solution = 0\n",
      "    taken = [False for _ in range(N)]\n",
      "    while stanzas:\n",
      "        weight, i, j = heapq.heappop(stanzas)\n",
      "\n",
      "        if taken[i] or taken[j]:\n",
      "            continue\n",
      "\n",
      "        # (1) make the two words unavailable\n",
      "        taken[i] = taken[j] = True\n",
      "        # (2) add the stanza's beauty to the solution\n",
      "        solution += -weight\n",
      "        # (3) take the two newly free words and add their stanza's \n",
      "        #     beauty to the priority queue.\n",
      "        p = prv[i]\n",
      "        n = nxt[j]\n",
      "        if p is None or n is None:\n",
      "            continue\n",
      "        if p == n:\n",
      "            continue\n",
      "        nxt[p] = n\n",
      "        prv[n] = p\n",
      "        wd1 = words[p]\n",
      "        wd2 = words[n]\n",
      "        b = stanza_beauty(wd1, wd2)\n",
      "        if b > 0:\n",
      "            heapq.heappush(stanzas, (-b, p, n))\n",
      "\n",
      "    return solution\n",
      "\n",
      "\n",
      "def main():\n",
      "    \"\"\"Main program.\"\"\"\n",
      "    import sys\n",
      "    T = int(sys.stdin.readline())\n",
      "    for _ in range(T):\n",
      "        N = int(sys.stdin.readline())\n",
      "        words = []\n",
      "        for _ in range(N):\n",
      "            words.append(sys.stdin.readline().strip())\n",
      "        print(solve(N, words))\n",
      "\n",
      "\n",
      "if __name__ == '__main__':\n",
      "    main()\n",
      "--------\n",
      "[Diff]\n",
      "\n",
      "*** \n",
      "\n",
      "--- \n",
      "\n",
      "***************\n",
      "\n",
      "*** 2,7 ****\n",
      "\n",
      "--- 2,8 ----\n",
      "\n",
      "  Code Chef :: January 2020 Challenge :: English\n",
      "  https://www.codechef.com/JAN20A/problems/ENGLISH\n",
      "  \"\"\"\n",
      "+ import heapq\n",
      "  \n",
      "  def stanza_beauty(wd1, wd2):\n",
      "      \"\"\"\n",
      "***************\n",
      "\n",
      "*** 17,45 ****\n",
      "\n",
      "  \n",
      "  \n",
      "  def transform(wd):\n",
      "      return \"\".join(\"\".join((a, b)) for a, b in zip(wd, reversed(wd)))\n",
      "      \n",
      "  def solve(N, words):\n",
      "      \"\"\"Solve puzzle.\"\"\"\n",
      "      words = sorted(words, key=transform)\n",
      "      stanzas = []\n",
      "!     stanzas_append = stanzas.append\n",
      "!     for i in range(N):\n",
      "          wd1 = words[i]\n",
      "!         j = (i+1) % N\n",
      "          wd2 = words[j]\n",
      "          b = stanza_beauty(wd1, wd2)\n",
      "          if b > 0:\n",
      "!             stanzas_append((b, i, j))\n",
      "  \n",
      "      solution = 0\n",
      "!     taken = set()\n",
      "!     for weight, wd1, wd2 in sorted(stanzas,reverse=True):\n",
      "!         if wd1 in taken or wd2 in taken:\n",
      "              continue\n",
      "!         taken.add(wd1)\n",
      "!         taken.add(wd2)\n",
      "!         solution += weight\n",
      "      return solution\n",
      "  \n",
      "  \n",
      "--- 18,73 ----\n",
      "\n",
      "  \n",
      "  \n",
      "  def transform(wd):\n",
      "+     \"\"\"\n",
      "+     Transform word so as to sort words of greater beauty together.\n",
      "+     \"\"\"\n",
      "      return \"\".join(\"\".join((a, b)) for a, b in zip(wd, reversed(wd)))\n",
      "      \n",
      "+ \n",
      "  def solve(N, words):\n",
      "      \"\"\"Solve puzzle.\"\"\"\n",
      "      words = sorted(words, key=transform)\n",
      "+     nxt = [None for _ in range(N)]\n",
      "+     prv = [None for _ in range(N)]\n",
      "      stanzas = []\n",
      "!     for i in range(N-1):\n",
      "          wd1 = words[i]\n",
      "!         j = i + 1\n",
      "          wd2 = words[j]\n",
      "          b = stanza_beauty(wd1, wd2)\n",
      "+         nxt[i] = j\n",
      "+         prv[j] = i\n",
      "          if b > 0:\n",
      "!             heapq.heappush(stanzas, (-b, i, j))\n",
      "  \n",
      "      solution = 0\n",
      "!     taken = [False for _ in range(N)]\n",
      "!     while stanzas:\n",
      "!         weight, i, j = heapq.heappop(stanzas)\n",
      "! \n",
      "!         if taken[i] or taken[j]:\n",
      "              continue\n",
      "! \n",
      "!         # (1) make the two words unavailable\n",
      "!         taken[i] = taken[j] = True\n",
      "!         # (2) add the stanza's beauty to the solution\n",
      "!         solution += -weight\n",
      "!         # (3) take the two newly free words and add their stanza's \n",
      "!         #     beauty to the priority queue.\n",
      "!         p = prv[i]\n",
      "!         n = nxt[j]\n",
      "!         if p is None or n is None:\n",
      "!             continue\n",
      "!         if p == n:\n",
      "!             continue\n",
      "!         nxt[p] = n\n",
      "!         prv[n] = p\n",
      "!         wd1 = words[p]\n",
      "!         wd2 = words[n]\n",
      "!         b = stanza_beauty(wd1, wd2)\n",
      "!         if b > 0:\n",
      "!             heapq.heappush(stanzas, (-b, p, n))\n",
      "! \n",
      "      return solution\n",
      "  \n",
      "  \n",
      "====\n"
     ]
    }
   ],
   "source": [
    "view_sample(multi_samples['ENGLISH_900'])"
   ],
   "metadata": {
    "collapsed": false,
    "pycharm": {
     "name": "#%%\n"
    }
   }
  },
  {
   "cell_type": "code",
   "execution_count": null,
   "outputs": [],
   "source": [],
   "metadata": {
    "collapsed": false,
    "pycharm": {
     "name": "#%%\n"
    }
   }
  },
  {
   "cell_type": "code",
   "execution_count": null,
   "outputs": [],
   "source": [],
   "metadata": {
    "collapsed": false,
    "pycharm": {
     "name": "#%%\n"
    }
   }
  },
  {
   "cell_type": "code",
   "execution_count": null,
   "outputs": [],
   "source": [],
   "metadata": {
    "collapsed": false,
    "pycharm": {
     "name": "#%%\n"
    }
   }
  },
  {
   "cell_type": "code",
   "execution_count": 2,
   "outputs": [],
   "source": [
    "import pickle\n",
    "\n",
    "with open('codechef_14_assignment_info.pkl', 'rb') as f:\n",
    "    d = pickle.load(f)"
   ],
   "metadata": {
    "collapsed": false,
    "pycharm": {
     "name": "#%%\n"
    }
   }
  },
  {
   "cell_type": "code",
   "execution_count": 3,
   "outputs": [
    {
     "data": {
      "text/plain": "dict_keys(['title', 'tag', 'problem', 'input_tc', 'output_tc', 'problem_token_set', 'public_tests', 'private_tests', 'generated_tests'])"
     },
     "execution_count": 3,
     "metadata": {},
     "output_type": "execute_result"
    }
   ],
   "source": [
    "d['abcstr'].keys()"
   ],
   "metadata": {
    "collapsed": false,
    "pycharm": {
     "name": "#%%\n"
    }
   }
  },
  {
   "cell_type": "code",
   "execution_count": null,
   "outputs": [],
   "source": [],
   "metadata": {
    "collapsed": false,
    "pycharm": {
     "name": "#%%\n"
    }
   }
  },
  {
   "cell_type": "code",
   "execution_count": null,
   "outputs": [],
   "source": [],
   "metadata": {
    "collapsed": false,
    "pycharm": {
     "name": "#%%\n"
    }
   }
  },
  {
   "cell_type": "code",
   "execution_count": null,
   "outputs": [],
   "source": [],
   "metadata": {
    "collapsed": false,
    "pycharm": {
     "name": "#%%\n"
    }
   }
  },
  {
   "cell_type": "code",
   "execution_count": null,
   "outputs": [],
   "source": [],
   "metadata": {
    "collapsed": false,
    "pycharm": {
     "name": "#%%\n"
    }
   }
  }
 ],
 "metadata": {
  "kernelspec": {
   "display_name": "Python 3",
   "language": "python",
   "name": "python3"
  },
  "language_info": {
   "codemirror_mode": {
    "name": "ipython",
    "version": 2
   },
   "file_extension": ".py",
   "mimetype": "text/x-python",
   "name": "python",
   "nbconvert_exporter": "python",
   "pygments_lexer": "ipython2",
   "version": "2.7.6"
  }
 },
 "nbformat": 4,
 "nbformat_minor": 0
}